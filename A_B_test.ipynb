{
 "cells": [
  {
   "cell_type": "markdown",
   "id": "d60e6499",
   "metadata": {},
   "source": [
    "Evan miller используем для расчета семпла\n",
    "https://www.evanmiller.org/ab-testing/sample-size.html\n",
    "\n",
    "Какой мимнимальный эффект нам интересен? Интересно сделать меньший sample size но получить больший эффект. А также необходимо настроить ошибку первого рода. \n",
    "- И это наши критерии успешности.\n"
   ]
  },
  {
   "cell_type": "code",
   "execution_count": 1,
   "id": "81c746ad",
   "metadata": {},
   "outputs": [],
   "source": [
    "import matplotlib.pyplot as plt\n",
    "\n",
    "plt.style.use('dark_background')"
   ]
  },
  {
   "cell_type": "code",
   "execution_count": 2,
   "id": "b2a787f7",
   "metadata": {},
   "outputs": [],
   "source": [
    "import pandas as pd\n",
    "import numpy as np"
   ]
  },
  {
   "cell_type": "markdown",
   "id": "0e6347f5",
   "metadata": {},
   "source": [
    "Загружаем нужные библиотеки"
   ]
  },
  {
   "cell_type": "code",
   "execution_count": 3,
   "id": "abdd1f2b",
   "metadata": {},
   "outputs": [],
   "source": [
    "#какой эффект хотим получить\n",
    "mde = 0.05\n",
    "#Наши изначальные проценты\n",
    "baseline = 0.2\n",
    "#Выборка по версии Эвана Миллера\n",
    "sample_size = 1030"
   ]
  },
  {
   "cell_type": "markdown",
   "id": "43975aa0",
   "metadata": {},
   "source": [
    "## Тесты которые можно проводить\n",
    "\n",
    "Fisher exact test\n",
    "\n",
    "Z test == Chi square test\n",
    "\n",
    "T test\n",
    "\n",
    "Bootstrap (Monte-Carlo)"
   ]
  },
  {
   "cell_type": "markdown",
   "id": "992cd26a",
   "metadata": {},
   "source": [
    "# Z-test"
   ]
  },
  {
   "cell_type": "code",
   "execution_count": 4,
   "id": "655967d3",
   "metadata": {},
   "outputs": [],
   "source": [
    "from statsmodels.stats.proportion import proportions_ztest"
   ]
  },
  {
   "cell_type": "markdown",
   "id": "4d52561c",
   "metadata": {},
   "source": [
    "Н0: разницы между группами нет == выборки пришли из одного распределения"
   ]
  },
  {
   "cell_type": "code",
   "execution_count": 5,
   "id": "9525b635",
   "metadata": {},
   "outputs": [],
   "source": [
    "from tqdm.notebook import tqdm"
   ]
  },
  {
   "cell_type": "markdown",
   "id": "ed6595c8",
   "metadata": {},
   "source": [
    "Получаем p-value "
   ]
  },
  {
   "cell_type": "code",
   "execution_count": 6,
   "id": "950002ad",
   "metadata": {},
   "outputs": [
    {
     "data": {
      "application/vnd.jupyter.widget-view+json": {
       "model_id": "ef6ece949ffc4601b422deb7c5b2f852",
       "version_major": 2,
       "version_minor": 0
      },
      "text/plain": [
       "  0%|          | 0/10000 [00:00<?, ?it/s]"
      ]
     },
     "metadata": {},
     "output_type": "display_data"
    }
   ],
   "source": [
    "result = []\n",
    "#в range = регулируем точность\n",
    "for _ in tqdm(range(10000)):\n",
    "    # генерируем рандомные числа, относительно данных, которые имеем\n",
    "    a = np.random.binomial(1, baseline, size =sample_size)\n",
    "    # генерируем рандомные числа, относительно данных, которые имеем + наш эффект\n",
    "    b = np.random.binomial(1, baseline + mde, size =sample_size)\n",
    "    _, pval = proportions_ztest([a.sum(), b.sum()], [len(b)])\n",
    "    result.append(pval)"
   ]
  },
  {
   "cell_type": "markdown",
   "id": "1ab132ae",
   "metadata": {},
   "source": [
    "p-value должен быть меньше чем 0,05"
   ]
  },
  {
   "cell_type": "markdown",
   "id": "d8f3ee8c",
   "metadata": {},
   "source": [
    "Строим гистограмму по нашим значениям"
   ]
  },
  {
   "cell_type": "code",
   "execution_count": 7,
   "id": "d8fd21bd",
   "metadata": {},
   "outputs": [
    {
     "data": {
      "text/plain": [
       "<AxesSubplot:>"
      ]
     },
     "execution_count": 7,
     "metadata": {},
     "output_type": "execute_result"
    },
    {
     "data": {
      "image/png": "[encoded data removed]",
      "text/plain": [
       "<Figure size 432x288 with 1 Axes>"
      ]
     },
     "metadata": {},
     "output_type": "display_data"
    }
   ],
   "source": [
    "t = pd.Series(result)\n",
    "t.hist()"
   ]
  },
  {
   "cell_type": "markdown",
   "id": "c621550e",
   "metadata": {},
   "source": [
    "Находим мощность нашей выборки:"
   ]
  },
  {
   "cell_type": "code",
   "execution_count": 8,
   "id": "d2bd2347",
   "metadata": {},
   "outputs": [
    {
     "data": {
      "text/plain": [
       "0.7744"
      ]
     },
     "execution_count": 8,
     "metadata": {},
     "output_type": "execute_result"
    }
   ],
   "source": [
    "(t < 0.05).mean()"
   ]
  },
  {
   "cell_type": "markdown",
   "id": "73af736a",
   "metadata": {},
   "source": [
    "# T- Test"
   ]
  },
  {
   "cell_type": "code",
   "execution_count": 9,
   "id": "30354373",
   "metadata": {},
   "outputs": [],
   "source": [
    "from scipy.stats import ttest_ind"
   ]
  },
  {
   "cell_type": "code",
   "execution_count": 10,
   "id": "29a98afb",
   "metadata": {},
   "outputs": [
    {
     "data": {
      "application/vnd.jupyter.widget-view+json": {
       "model_id": "542fbadbceba4065bc4dd198f77eddfb",
       "version_major": 2,
       "version_minor": 0
      },
      "text/plain": [
       "  0%|          | 0/10000 [00:00<?, ?it/s]"
      ]
     },
     "metadata": {},
     "output_type": "display_data"
    }
   ],
   "source": [
    "result = []\n",
    "#в range = регулируем точность\n",
    "for _ in tqdm(range(10000)):\n",
    "    # генерируем рандомные числа, относительно данных, которые имеем\n",
    "    a = np.random.binomial(1, baseline, size =sample_size)\n",
    "    # генерируем рандомные числа, относительно данных, которые имеем + наш эффект\n",
    "    b = np.random.binomial(1, baseline + mde, size =sample_size)\n",
    "    _, pval = ttest_ind(a, b, equal_var=False)\n",
    "    result.append(pval)"
   ]
  },
  {
   "cell_type": "markdown",
   "id": "16cc7313",
   "metadata": {},
   "source": [
    "Выдает ту же мощность, поэтому здесь юзают Z-test или Chiквадрат"
   ]
  },
  {
   "cell_type": "code",
   "execution_count": 11,
   "id": "b5bbe302",
   "metadata": {},
   "outputs": [
    {
     "data": {
      "text/plain": [
       "0.7719"
      ]
     },
     "execution_count": 11,
     "metadata": {},
     "output_type": "execute_result"
    }
   ],
   "source": [
    "t = pd.Series(result)\n",
    "(t < 0.05).mean()"
   ]
  },
  {
   "cell_type": "code",
   "execution_count": 13,
   "id": "97d5f97b",
   "metadata": {},
   "outputs": [],
   "source": [
    "from scipy.stats import mannwhitneyu"
   ]
  },
  {
   "cell_type": "code",
   "execution_count": 18,
   "id": "28d04f7c",
   "metadata": {},
   "outputs": [
    {
     "data": {
      "application/vnd.jupyter.widget-view+json": {
       "model_id": "3e013d49b8b24c4a94a00ded38400aea",
       "version_major": 2,
       "version_minor": 0
      },
      "text/plain": [
       "  0%|          | 0/10000 [00:00<?, ?it/s]"
      ]
     },
     "metadata": {},
     "output_type": "display_data"
    }
   ],
   "source": [
    "result = []\n",
    "for _ in tqdm(range(10000)):\n",
    "    a = np.random.binomial(1, baseline, size =sample_size)\n",
    "    b = np.random.binomial(1, baseline, size =sample_size)\n",
    "    _, pval = mannwhitneyu(a,b)\n",
    "    result.append(pval)"
   ]
  },
  {
   "cell_type": "code",
   "execution_count": 19,
   "id": "6b1cf51c",
   "metadata": {},
   "outputs": [],
   "source": [
    "t = pd.Series(result)"
   ]
  },
  {
   "cell_type": "code",
   "execution_count": 20,
   "id": "1228df25",
   "metadata": {},
   "outputs": [
    {
     "data": {
      "text/plain": [
       "0.0491"
      ]
     },
     "execution_count": 20,
     "metadata": {},
     "output_type": "execute_result"
    }
   ],
   "source": [
    "(t < 0.05).mean()"
   ]
  },
  {
   "cell_type": "markdown",
   "id": "39edf0d6",
   "metadata": {},
   "source": [
    "Мы сделали А/А тест и проверяем равномерность распределения"
   ]
  },
  {
   "cell_type": "code",
   "execution_count": 22,
   "id": "1396248a",
   "metadata": {},
   "outputs": [
    {
     "data": {
      "text/plain": [
       "<AxesSubplot:>"
      ]
     },
     "execution_count": 22,
     "metadata": {},
     "output_type": "execute_result"
    },
    {
     "data": {
      "image/png": "[encoded data removed]",
      "text/plain": [
       "<Figure size 432x288 with 1 Axes>"
      ]
     },
     "metadata": {},
     "output_type": "display_data"
    }
   ],
   "source": [
    "t.hist()"
   ]
  },
  {
   "cell_type": "code",
   "execution_count": 23,
   "id": "ead8a900",
   "metadata": {},
   "outputs": [],
   "source": [
    "import seaborn as sns"
   ]
  },
  {
   "cell_type": "markdown",
   "id": "9a5d005b",
   "metadata": {},
   "source": [
    "Здесь должна быть прямая линия"
   ]
  },
  {
   "cell_type": "code",
   "execution_count": 24,
   "id": "815436ae",
   "metadata": {},
   "outputs": [
    {
     "data": {
      "text/plain": [
       "<AxesSubplot:ylabel='Proportion'>"
      ]
     },
     "execution_count": 24,
     "metadata": {},
     "output_type": "execute_result"
    },
    {
     "data": {
      "image/png": "[encoded data removed]",
      "text/plain": [
       "<Figure size 432x288 with 1 Axes>"
      ]
     },
     "metadata": {},
     "output_type": "display_data"
    }
   ],
   "source": [
    "sns.ecdfplot(t)"
   ]
  },
  {
   "cell_type": "code",
   "execution_count": 25,
   "id": "cd07dfce",
   "metadata": {},
   "outputs": [
    {
     "data": {
      "text/plain": [
       "0.0491"
      ]
     },
     "execution_count": 25,
     "metadata": {},
     "output_type": "execute_result"
    }
   ],
   "source": [
    "(t < 0.05).mean()"
   ]
  },
  {
   "cell_type": "markdown",
   "id": "36474b9b",
   "metadata": {},
   "source": [
    "Проверим на пропорциональном тесте, и здесь лучше использовать вот эту схему"
   ]
  },
  {
   "cell_type": "code",
   "execution_count": 26,
   "id": "e40d893f",
   "metadata": {},
   "outputs": [
    {
     "data": {
      "application/vnd.jupyter.widget-view+json": {
       "model_id": "a6b3b7058eaa44fe8d2b0dc0ce0b8040",
       "version_major": 2,
       "version_minor": 0
      },
      "text/plain": [
       "  0%|          | 0/10000 [00:00<?, ?it/s]"
      ]
     },
     "metadata": {},
     "output_type": "display_data"
    }
   ],
   "source": [
    "result = []\n",
    "for _ in tqdm(range(10000)):\n",
    "  a = np.random.binomial(1,baseline,size=sample_size)\n",
    "  b = np.random.binomial(1,baseline,size=sample_size)\n",
    "  _, pval = proportions_ztest([a.sum(),b.sum()],[len(a),len(b)])\n",
    "  result.append(pval)"
   ]
  },
  {
   "cell_type": "code",
   "execution_count": 31,
   "id": "1d290760",
   "metadata": {},
   "outputs": [],
   "source": [
    "t = pd.Series(result)"
   ]
  },
  {
   "cell_type": "code",
   "execution_count": 32,
   "id": "dc60783b",
   "metadata": {},
   "outputs": [
    {
     "data": {
      "text/plain": [
       "<AxesSubplot:>"
      ]
     },
     "execution_count": 32,
     "metadata": {},
     "output_type": "execute_result"
    },
    {
     "data": {
      "image/png": "[encoded data removed]",
      "text/plain": [
       "<Figure size 432x288 with 1 Axes>"
      ]
     },
     "metadata": {},
     "output_type": "display_data"
    }
   ],
   "source": [
    "t.hist()"
   ]
  },
  {
   "cell_type": "code",
   "execution_count": 33,
   "id": "2fb8533f",
   "metadata": {},
   "outputs": [
    {
     "data": {
      "text/plain": [
       "<AxesSubplot:ylabel='Proportion'>"
      ]
     },
     "execution_count": 33,
     "metadata": {},
     "output_type": "execute_result"
    },
    {
     "data": {
      "image/png": "[encoded data removed]",
      "text/plain": [
       "<Figure size 432x288 with 1 Axes>"
      ]
     },
     "metadata": {},
     "output_type": "display_data"
    }
   ],
   "source": [
    "sns.ecdfplot(t)"
   ]
  },
  {
   "cell_type": "code",
   "execution_count": 34,
   "id": "c5f08201",
   "metadata": {},
   "outputs": [
    {
     "data": {
      "text/plain": [
       "0.0481"
      ]
     },
     "execution_count": 34,
     "metadata": {},
     "output_type": "execute_result"
    }
   ],
   "source": [
    "(t < 0.05).mean()"
   ]
  },
  {
   "cell_type": "markdown",
   "id": "2d6fef5b",
   "metadata": {},
   "source": [
    "# Сэмплы в питоне"
   ]
  },
  {
   "cell_type": "markdown",
   "id": "1fb48973",
   "metadata": {},
   "source": [
    "https://colab.research.google.com/drive/10DkHtLXsRHYSB7f5LMV5h5WW__uTcNHE?usp=sharing"
   ]
  },
  {
   "cell_type": "code",
   "execution_count": 35,
   "id": "82ee44e1",
   "metadata": {},
   "outputs": [],
   "source": [
    "import statsmodels.stats.api as sms\n",
    "#Вот такие эффекты хоти возыметь\n",
    "es = sms.proportion_effectsize(0.20, 0.25)\n",
    "# Вот, а здесь есть power и alpha -это было и по ссылке в калькуляторе внизу значения\n",
    "sample_size = round(sms.NormalIndPower().solve_power(es, power=0.80, alpha=0.05, ratio=1))"
   ]
  },
  {
   "cell_type": "markdown",
   "id": "e1497ef6",
   "metadata": {},
   "source": [
    "Получилось немного больше чем мы ожидали"
   ]
  },
  {
   "cell_type": "code",
   "execution_count": 36,
   "id": "6797a346",
   "metadata": {},
   "outputs": [
    {
     "data": {
      "text/plain": [
       "1092"
      ]
     },
     "execution_count": 36,
     "metadata": {},
     "output_type": "execute_result"
    }
   ],
   "source": [
    "sample_size"
   ]
  },
  {
   "cell_type": "code",
   "execution_count": 37,
   "id": "e8b94003",
   "metadata": {},
   "outputs": [
    {
     "data": {
      "application/vnd.jupyter.widget-view+json": {
       "model_id": "9161c3e443024b58bd612dbdb25358ed",
       "version_major": 2,
       "version_minor": 0
      },
      "text/plain": [
       "  0%|          | 0/10000 [00:00<?, ?it/s]"
      ]
     },
     "metadata": {},
     "output_type": "display_data"
    }
   ],
   "source": [
    "result = []\n",
    "for _ in tqdm(range(10000)):\n",
    "  a = np.random.binomial(1,baseline,size=sample_size)\n",
    "  b = np.random.binomial(1,baseline + mde,size=sample_size)\n",
    "  _, pval = proportions_ztest([a.sum(),b.sum()],[len(a),len(b)])\n",
    "  result.append(pval)"
   ]
  },
  {
   "cell_type": "code",
   "execution_count": 38,
   "id": "071572bb",
   "metadata": {},
   "outputs": [],
   "source": [
    "t = pd.Series(result)"
   ]
  },
  {
   "cell_type": "markdown",
   "id": "0cb1b12a",
   "metadata": {},
   "source": [
    "Получили ровно 80 - что классно"
   ]
  },
  {
   "cell_type": "code",
   "execution_count": 39,
   "id": "f936e819",
   "metadata": {},
   "outputs": [
    {
     "data": {
      "text/plain": [
       "0.7997"
      ]
     },
     "execution_count": 39,
     "metadata": {},
     "output_type": "execute_result"
    }
   ],
   "source": [
    "(t < 0.05).mean()"
   ]
  },
  {
   "cell_type": "markdown",
   "id": "3db062ed",
   "metadata": {},
   "source": [
    "А если отношение контроля с тестом  1/3"
   ]
  },
  {
   "cell_type": "code",
   "execution_count": 40,
   "id": "cc25d955",
   "metadata": {},
   "outputs": [],
   "source": [
    "import statsmodels.stats.api as sms\n",
    "es = sms.proportion_effectsize(0.20, 0.25)\n",
    "# Ставим ratio = 1/3\n",
    "sample_size1 = round(sms.NormalIndPower().solve_power(es, power=0.80, alpha=0.05, ratio=1/3))"
   ]
  },
  {
   "cell_type": "markdown",
   "id": "29ad0167",
   "metadata": {},
   "source": [
    "Получаем две разные группы:"
   ]
  },
  {
   "cell_type": "code",
   "execution_count": 41,
   "id": "68afe149",
   "metadata": {},
   "outputs": [
    {
     "data": {
      "text/plain": [
       "2184"
      ]
     },
     "execution_count": 41,
     "metadata": {},
     "output_type": "execute_result"
    }
   ],
   "source": [
    "sample_size1"
   ]
  },
  {
   "cell_type": "code",
   "execution_count": 42,
   "id": "ae683f6c",
   "metadata": {},
   "outputs": [],
   "source": [
    "sample_size2 = round(sample_size1 * 1/3)"
   ]
  },
  {
   "cell_type": "code",
   "execution_count": 43,
   "id": "5818f15b",
   "metadata": {},
   "outputs": [
    {
     "data": {
      "text/plain": [
       "728"
      ]
     },
     "execution_count": 43,
     "metadata": {},
     "output_type": "execute_result"
    }
   ],
   "source": [
    "sample_size2"
   ]
  },
  {
   "cell_type": "code",
   "execution_count": 44,
   "id": "e9eddb74",
   "metadata": {},
   "outputs": [
    {
     "data": {
      "application/vnd.jupyter.widget-view+json": {
       "model_id": "9db568cc9fe54cdcb9dcfbea8482ae68",
       "version_major": 2,
       "version_minor": 0
      },
      "text/plain": [
       "  0%|          | 0/10000 [00:00<?, ?it/s]"
      ]
     },
     "metadata": {},
     "output_type": "display_data"
    }
   ],
   "source": [
    "result = []\n",
    "for _ in tqdm(range(10000)):\n",
    "  a = np.random.binomial(1,baseline,size=sample_size1)\n",
    "  b = np.random.binomial(1,baseline + mde,size=sample_size2)\n",
    "  _, pval = proportions_ztest([a.sum(),b.sum()],[len(a),len(b)])\n",
    "  result.append(pval)"
   ]
  },
  {
   "cell_type": "code",
   "execution_count": 45,
   "id": "df9c6224",
   "metadata": {},
   "outputs": [],
   "source": [
    "t = pd.Series(result)"
   ]
  },
  {
   "cell_type": "markdown",
   "id": "1fd42bd9",
   "metadata": {},
   "source": [
    "Получаем тот же результат"
   ]
  },
  {
   "cell_type": "code",
   "execution_count": 46,
   "id": "a144c88c",
   "metadata": {},
   "outputs": [
    {
     "data": {
      "text/plain": [
       "0.7979"
      ]
     },
     "execution_count": 46,
     "metadata": {},
     "output_type": "execute_result"
    }
   ],
   "source": [
    "(t < 0.05).mean()"
   ]
  },
  {
   "cell_type": "markdown",
   "id": "209c7d32",
   "metadata": {},
   "source": [
    "# Сэмпл-сайз методом подбора"
   ]
  },
  {
   "cell_type": "code",
   "execution_count": 60,
   "id": "ccc2f133",
   "metadata": {},
   "outputs": [
    {
     "data": {
      "application/vnd.jupyter.widget-view+json": {
       "model_id": "bb36b3bd66f44d4cbb5e319d72fe87e0",
       "version_major": 2,
       "version_minor": 0
      },
      "text/plain": [
       "  0%|          | 0/1000 [00:00<?, ?it/s]"
      ]
     },
     "metadata": {},
     "output_type": "display_data"
    },
    {
     "data": {
      "text/plain": [
       "0.797"
      ]
     },
     "execution_count": 60,
     "metadata": {},
     "output_type": "execute_result"
    }
   ],
   "source": [
    "sample_size = 8392\n",
    "baseline = 0.3\n",
    "mde = 0.02\n",
    "\n",
    "result = []\n",
    "for _ in tqdm(range(1000)):\n",
    "  a = np.random.binomial(1,baseline,size=sample_size)\n",
    "  b = np.random.binomial(1,baseline + mde,size=sample_size)\n",
    "  _, pval = proportions_ztest([a.sum(),b.sum()],[len(a),len(b)])\n",
    "  result.append(pval)\n",
    "    \n",
    "t = pd.Series(result)\n",
    "(t < 0.05).mean()"
   ]
  },
  {
   "cell_type": "code",
   "execution_count": 61,
   "id": "9a6f6887",
   "metadata": {},
   "outputs": [
    {
     "data": {
      "text/plain": [
       "8392.38536140766"
      ]
     },
     "execution_count": 61,
     "metadata": {},
     "output_type": "execute_result"
    }
   ],
   "source": [
    "import statsmodels.stats.api as sms\n",
    "es = sms.proportion_effectsize(0.30, 0.32)\n",
    "# Ставим ratio = 1/3\n",
    "(sms.NormalIndPower().solve_power(es, power=0.80, alpha=0.05, ratio=1))"
   ]
  },
  {
   "cell_type": "code",
   "execution_count": 62,
   "id": "3d75809c",
   "metadata": {},
   "outputs": [
    {
     "data": {
      "application/vnd.jupyter.widget-view+json": {
       "model_id": "ac58b595675948dab90dc441c3dfd93d",
       "version_major": 2,
       "version_minor": 0
      },
      "text/plain": [
       "  0%|          | 0/1000 [00:00<?, ?it/s]"
      ]
     },
     "metadata": {},
     "output_type": "display_data"
    }
   ],
   "source": [
    " sample_size = 8393\n",
    "baseline = 0.3\n",
    "mde = 0.02\n",
    "result = []\n",
    "for _ in tqdm(range(1000)):\n",
    "  a = np.random.binomial(1,baseline,size=sample_size)\n",
    "  b = np.random.binomial(1,baseline + mde,size=sample_size)\n",
    "  _, pval = proportions_ztest([a.sum(),b.sum()],[len(a),len(b)])\n",
    "  result.append((1,pval))"
   ]
  },
  {
   "cell_type": "markdown",
   "id": "65e5f4f2",
   "metadata": {},
   "source": [
    "# Проверка на датасете"
   ]
  },
  {
   "cell_type": "code",
   "execution_count": 64,
   "id": "c31ed1ad",
   "metadata": {},
   "outputs": [],
   "source": [
    "t = pd.DataFrame(result,columns=['y_true','y_score'])"
   ]
  },
  {
   "cell_type": "code",
   "execution_count": 65,
   "id": "1b4ef98c",
   "metadata": {},
   "outputs": [],
   "source": [
    "t['y_pred'] = (t['y_score'] < 0.05)*1"
   ]
  },
  {
   "cell_type": "code",
   "execution_count": 66,
   "id": "8fd14f9c",
   "metadata": {},
   "outputs": [
    {
     "data": {
      "text/html": [
       "<div>\n",
       "<style scoped>\n",
       "    .dataframe tbody tr th:only-of-type {\n",
       "        vertical-align: middle;\n",
       "    }\n",
       "\n",
       "    .dataframe tbody tr th {\n",
       "        vertical-align: top;\n",
       "    }\n",
       "\n",
       "    .dataframe thead th {\n",
       "        text-align: right;\n",
       "    }\n",
       "</style>\n",
       "<table border=\"1\" class=\"dataframe\">\n",
       "  <thead>\n",
       "    <tr style=\"text-align: right;\">\n",
       "      <th></th>\n",
       "      <th>y_true</th>\n",
       "      <th>y_score</th>\n",
       "      <th>y_pred</th>\n",
       "    </tr>\n",
       "  </thead>\n",
       "  <tbody>\n",
       "    <tr>\n",
       "      <th>0</th>\n",
       "      <td>1</td>\n",
       "      <td>0.000251</td>\n",
       "      <td>1</td>\n",
       "    </tr>\n",
       "    <tr>\n",
       "      <th>1</th>\n",
       "      <td>1</td>\n",
       "      <td>0.036260</td>\n",
       "      <td>1</td>\n",
       "    </tr>\n",
       "    <tr>\n",
       "      <th>2</th>\n",
       "      <td>1</td>\n",
       "      <td>0.494448</td>\n",
       "      <td>0</td>\n",
       "    </tr>\n",
       "    <tr>\n",
       "      <th>3</th>\n",
       "      <td>1</td>\n",
       "      <td>0.001162</td>\n",
       "      <td>1</td>\n",
       "    </tr>\n",
       "    <tr>\n",
       "      <th>4</th>\n",
       "      <td>1</td>\n",
       "      <td>0.006766</td>\n",
       "      <td>1</td>\n",
       "    </tr>\n",
       "    <tr>\n",
       "      <th>...</th>\n",
       "      <td>...</td>\n",
       "      <td>...</td>\n",
       "      <td>...</td>\n",
       "    </tr>\n",
       "    <tr>\n",
       "      <th>995</th>\n",
       "      <td>1</td>\n",
       "      <td>0.000721</td>\n",
       "      <td>1</td>\n",
       "    </tr>\n",
       "    <tr>\n",
       "      <th>996</th>\n",
       "      <td>1</td>\n",
       "      <td>0.000018</td>\n",
       "      <td>1</td>\n",
       "    </tr>\n",
       "    <tr>\n",
       "      <th>997</th>\n",
       "      <td>1</td>\n",
       "      <td>0.000192</td>\n",
       "      <td>1</td>\n",
       "    </tr>\n",
       "    <tr>\n",
       "      <th>998</th>\n",
       "      <td>1</td>\n",
       "      <td>0.068834</td>\n",
       "      <td>0</td>\n",
       "    </tr>\n",
       "    <tr>\n",
       "      <th>999</th>\n",
       "      <td>1</td>\n",
       "      <td>0.025522</td>\n",
       "      <td>1</td>\n",
       "    </tr>\n",
       "  </tbody>\n",
       "</table>\n",
       "<p>1000 rows × 3 columns</p>\n",
       "</div>"
      ],
      "text/plain": [
       "     y_true   y_score  y_pred\n",
       "0         1  0.000251       1\n",
       "1         1  0.036260       1\n",
       "2         1  0.494448       0\n",
       "3         1  0.001162       1\n",
       "4         1  0.006766       1\n",
       "..      ...       ...     ...\n",
       "995       1  0.000721       1\n",
       "996       1  0.000018       1\n",
       "997       1  0.000192       1\n",
       "998       1  0.068834       0\n",
       "999       1  0.025522       1\n",
       "\n",
       "[1000 rows x 3 columns]"
      ]
     },
     "execution_count": 66,
     "metadata": {},
     "output_type": "execute_result"
    }
   ],
   "source": [
    "t"
   ]
  },
  {
   "cell_type": "code",
   "execution_count": 67,
   "id": "9ce6fdbd",
   "metadata": {},
   "outputs": [
    {
     "data": {
      "text/plain": [
       "0.794"
      ]
     },
     "execution_count": 67,
     "metadata": {},
     "output_type": "execute_result"
    }
   ],
   "source": [
    "t['y_pred'].mean()"
   ]
  },
  {
   "cell_type": "code",
   "execution_count": 68,
   "id": "750a75be",
   "metadata": {},
   "outputs": [
    {
     "data": {
      "application/vnd.jupyter.widget-view+json": {
       "model_id": "4483b43d05ba44518a17c34a2a59490f",
       "version_major": 2,
       "version_minor": 0
      },
      "text/plain": [
       "  0%|          | 0/1000 [00:00<?, ?it/s]"
      ]
     },
     "metadata": {},
     "output_type": "display_data"
    }
   ],
   "source": [
    "sample_size = 8393\n",
    "baseline = 0.3\n",
    "mde = 0.02\n",
    "result = []\n",
    "for _ in tqdm(range(1000)):\n",
    "  a = np.random.binomial(1,baseline,size=sample_size)\n",
    "  b = np.random.binomial(1,baseline,size=sample_size)\n",
    "  _, pval = proportions_ztest([a.sum(),b.sum()],[len(a),len(b)])\n",
    "  result.append((0,pval))"
   ]
  },
  {
   "cell_type": "code",
   "execution_count": 72,
   "id": "759a600e",
   "metadata": {},
   "outputs": [],
   "source": [
    "t = pd.DataFrame(result,columns=['y_true','y_score'])"
   ]
  },
  {
   "cell_type": "code",
   "execution_count": 75,
   "id": "634e9483",
   "metadata": {},
   "outputs": [],
   "source": [
    "t['y_pred'] = (t['y_score'] < 0.05)*1"
   ]
  },
  {
   "cell_type": "code",
   "execution_count": 76,
   "id": "23b92048",
   "metadata": {},
   "outputs": [
    {
     "data": {
      "text/html": [
       "<div>\n",
       "<style scoped>\n",
       "    .dataframe tbody tr th:only-of-type {\n",
       "        vertical-align: middle;\n",
       "    }\n",
       "\n",
       "    .dataframe tbody tr th {\n",
       "        vertical-align: top;\n",
       "    }\n",
       "\n",
       "    .dataframe thead th {\n",
       "        text-align: right;\n",
       "    }\n",
       "</style>\n",
       "<table border=\"1\" class=\"dataframe\">\n",
       "  <thead>\n",
       "    <tr style=\"text-align: right;\">\n",
       "      <th></th>\n",
       "      <th>y_true</th>\n",
       "      <th>y_score</th>\n",
       "      <th>y_pred</th>\n",
       "    </tr>\n",
       "  </thead>\n",
       "  <tbody>\n",
       "    <tr>\n",
       "      <th>0</th>\n",
       "      <td>0</td>\n",
       "      <td>0.673197</td>\n",
       "      <td>0</td>\n",
       "    </tr>\n",
       "    <tr>\n",
       "      <th>1</th>\n",
       "      <td>0</td>\n",
       "      <td>0.479521</td>\n",
       "      <td>0</td>\n",
       "    </tr>\n",
       "    <tr>\n",
       "      <th>2</th>\n",
       "      <td>0</td>\n",
       "      <td>0.428248</td>\n",
       "      <td>0</td>\n",
       "    </tr>\n",
       "    <tr>\n",
       "      <th>3</th>\n",
       "      <td>0</td>\n",
       "      <td>0.919451</td>\n",
       "      <td>0</td>\n",
       "    </tr>\n",
       "    <tr>\n",
       "      <th>4</th>\n",
       "      <td>0</td>\n",
       "      <td>0.284041</td>\n",
       "      <td>0</td>\n",
       "    </tr>\n",
       "    <tr>\n",
       "      <th>...</th>\n",
       "      <td>...</td>\n",
       "      <td>...</td>\n",
       "      <td>...</td>\n",
       "    </tr>\n",
       "    <tr>\n",
       "      <th>995</th>\n",
       "      <td>0</td>\n",
       "      <td>0.736313</td>\n",
       "      <td>0</td>\n",
       "    </tr>\n",
       "    <tr>\n",
       "      <th>996</th>\n",
       "      <td>0</td>\n",
       "      <td>0.879179</td>\n",
       "      <td>0</td>\n",
       "    </tr>\n",
       "    <tr>\n",
       "      <th>997</th>\n",
       "      <td>0</td>\n",
       "      <td>0.053064</td>\n",
       "      <td>0</td>\n",
       "    </tr>\n",
       "    <tr>\n",
       "      <th>998</th>\n",
       "      <td>0</td>\n",
       "      <td>0.813297</td>\n",
       "      <td>0</td>\n",
       "    </tr>\n",
       "    <tr>\n",
       "      <th>999</th>\n",
       "      <td>0</td>\n",
       "      <td>1.000000</td>\n",
       "      <td>0</td>\n",
       "    </tr>\n",
       "  </tbody>\n",
       "</table>\n",
       "<p>1000 rows × 3 columns</p>\n",
       "</div>"
      ],
      "text/plain": [
       "     y_true   y_score  y_pred\n",
       "0         0  0.673197       0\n",
       "1         0  0.479521       0\n",
       "2         0  0.428248       0\n",
       "3         0  0.919451       0\n",
       "4         0  0.284041       0\n",
       "..      ...       ...     ...\n",
       "995       0  0.736313       0\n",
       "996       0  0.879179       0\n",
       "997       0  0.053064       0\n",
       "998       0  0.813297       0\n",
       "999       0  1.000000       0\n",
       "\n",
       "[1000 rows x 3 columns]"
      ]
     },
     "execution_count": 76,
     "metadata": {},
     "output_type": "execute_result"
    }
   ],
   "source": [
    "t"
   ]
  },
  {
   "cell_type": "code",
   "execution_count": 77,
   "id": "231cd2ff",
   "metadata": {},
   "outputs": [
    {
     "data": {
      "text/plain": [
       "0.049"
      ]
     },
     "execution_count": 77,
     "metadata": {},
     "output_type": "execute_result"
    }
   ],
   "source": [
    "t['y_pred'].mean()"
   ]
  },
  {
   "cell_type": "markdown",
   "id": "a6675dd2",
   "metadata": {},
   "source": [
    "# Миксуем успешный эксперемент или не успешный"
   ]
  },
  {
   "cell_type": "code",
   "execution_count": 78,
   "id": "efb537a8",
   "metadata": {},
   "outputs": [
    {
     "data": {
      "application/vnd.jupyter.widget-view+json": {
       "model_id": "80b7f20d13794d6690f19defafe200ad",
       "version_major": 2,
       "version_minor": 0
      },
      "text/plain": [
       "  0%|          | 0/10000 [00:00<?, ?it/s]"
      ]
     },
     "metadata": {},
     "output_type": "display_data"
    }
   ],
   "source": [
    "sample_size = 1090\n",
    "baseline = 0.2\n",
    "mde = 0.05\n",
    "\n",
    "\n",
    "result = []\n",
    "class_balance = 0.5\n",
    "\n",
    "\n",
    "for _ in tqdm(range(10000)):\n",
    "#     неуспешные эксперементы без mde\n",
    "  if np.random.binomial(1,class_balance):\n",
    "    a = np.random.binomial(1,baseline,size=sample_size)\n",
    "    b = np.random.binomial(1,baseline,size=sample_size)\n",
    "    _, pval = proportions_ztest([a.sum(),b.sum()],[len(a),len(b)])\n",
    "    result.append((0,pval))\n",
    "    \n",
    "    \n",
    "  else:\n",
    "    #     успешные эксперементы mde\n",
    "    a = np.random.binomial(1,baseline,size=sample_size)\n",
    "    b = np.random.binomial(1,baseline + mde,size=sample_size)\n",
    "    _, pval = proportions_ztest([a.sum(),b.sum()],[len(a),len(b)])\n",
    "    result.append((1,pval))"
   ]
  },
  {
   "cell_type": "code",
   "execution_count": 79,
   "id": "a566cc4f",
   "metadata": {},
   "outputs": [],
   "source": [
    "t = pd.DataFrame(result,columns=['y_true','y_score'])"
   ]
  },
  {
   "cell_type": "code",
   "execution_count": 82,
   "id": "b99644fe",
   "metadata": {},
   "outputs": [],
   "source": [
    "t['y_pred'] = (t['y_score'] < 0.05)*1"
   ]
  },
  {
   "cell_type": "code",
   "execution_count": 83,
   "id": "25d01182",
   "metadata": {},
   "outputs": [
    {
     "data": {
      "text/plain": [
       "0.4941"
      ]
     },
     "execution_count": 83,
     "metadata": {},
     "output_type": "execute_result"
    }
   ],
   "source": [
    "t['y_true'].mean()"
   ]
  },
  {
   "cell_type": "code",
   "execution_count": 84,
   "id": "e6ab99be",
   "metadata": {},
   "outputs": [
    {
     "data": {
      "text/html": [
       "<div>\n",
       "<style scoped>\n",
       "    .dataframe tbody tr th:only-of-type {\n",
       "        vertical-align: middle;\n",
       "    }\n",
       "\n",
       "    .dataframe tbody tr th {\n",
       "        vertical-align: top;\n",
       "    }\n",
       "\n",
       "    .dataframe thead th {\n",
       "        text-align: right;\n",
       "    }\n",
       "</style>\n",
       "<table border=\"1\" class=\"dataframe\">\n",
       "  <thead>\n",
       "    <tr style=\"text-align: right;\">\n",
       "      <th></th>\n",
       "      <th>y_true</th>\n",
       "      <th>y_score</th>\n",
       "      <th>y_pred</th>\n",
       "    </tr>\n",
       "  </thead>\n",
       "  <tbody>\n",
       "    <tr>\n",
       "      <th>0</th>\n",
       "      <td>1</td>\n",
       "      <td>0.000683</td>\n",
       "      <td>1</td>\n",
       "    </tr>\n",
       "    <tr>\n",
       "      <th>1</th>\n",
       "      <td>1</td>\n",
       "      <td>0.014888</td>\n",
       "      <td>1</td>\n",
       "    </tr>\n",
       "    <tr>\n",
       "      <th>2</th>\n",
       "      <td>0</td>\n",
       "      <td>0.112294</td>\n",
       "      <td>0</td>\n",
       "    </tr>\n",
       "    <tr>\n",
       "      <th>3</th>\n",
       "      <td>1</td>\n",
       "      <td>0.039842</td>\n",
       "      <td>1</td>\n",
       "    </tr>\n",
       "    <tr>\n",
       "      <th>4</th>\n",
       "      <td>1</td>\n",
       "      <td>0.000721</td>\n",
       "      <td>1</td>\n",
       "    </tr>\n",
       "    <tr>\n",
       "      <th>...</th>\n",
       "      <td>...</td>\n",
       "      <td>...</td>\n",
       "      <td>...</td>\n",
       "    </tr>\n",
       "    <tr>\n",
       "      <th>9995</th>\n",
       "      <td>1</td>\n",
       "      <td>0.000581</td>\n",
       "      <td>1</td>\n",
       "    </tr>\n",
       "    <tr>\n",
       "      <th>9996</th>\n",
       "      <td>0</td>\n",
       "      <td>0.708042</td>\n",
       "      <td>0</td>\n",
       "    </tr>\n",
       "    <tr>\n",
       "      <th>9997</th>\n",
       "      <td>1</td>\n",
       "      <td>0.077958</td>\n",
       "      <td>0</td>\n",
       "    </tr>\n",
       "    <tr>\n",
       "      <th>9998</th>\n",
       "      <td>1</td>\n",
       "      <td>0.002406</td>\n",
       "      <td>1</td>\n",
       "    </tr>\n",
       "    <tr>\n",
       "      <th>9999</th>\n",
       "      <td>1</td>\n",
       "      <td>0.210612</td>\n",
       "      <td>0</td>\n",
       "    </tr>\n",
       "  </tbody>\n",
       "</table>\n",
       "<p>10000 rows × 3 columns</p>\n",
       "</div>"
      ],
      "text/plain": [
       "      y_true   y_score  y_pred\n",
       "0          1  0.000683       1\n",
       "1          1  0.014888       1\n",
       "2          0  0.112294       0\n",
       "3          1  0.039842       1\n",
       "4          1  0.000721       1\n",
       "...      ...       ...     ...\n",
       "9995       1  0.000581       1\n",
       "9996       0  0.708042       0\n",
       "9997       1  0.077958       0\n",
       "9998       1  0.002406       1\n",
       "9999       1  0.210612       0\n",
       "\n",
       "[10000 rows x 3 columns]"
      ]
     },
     "execution_count": 84,
     "metadata": {},
     "output_type": "execute_result"
    }
   ],
   "source": [
    "t"
   ]
  },
  {
   "cell_type": "code",
   "execution_count": 85,
   "id": "677ed035",
   "metadata": {},
   "outputs": [],
   "source": [
    "from sklearn.metrics import classification_report"
   ]
  },
  {
   "cell_type": "code",
   "execution_count": 86,
   "id": "8380fa6d",
   "metadata": {},
   "outputs": [
    {
     "name": "stdout",
     "output_type": "stream",
     "text": [
      "              precision    recall  f1-score   support\n",
      "\n",
      "           0       0.83      0.95      0.88      5059\n",
      "           1       0.94      0.80      0.86      4941\n",
      "\n",
      "    accuracy                           0.87     10000\n",
      "   macro avg       0.88      0.87      0.87     10000\n",
      "weighted avg       0.88      0.87      0.87     10000\n",
      "\n"
     ]
    }
   ],
   "source": [
    "# recall - мощность (alpha, power) \n",
    "# precision (успешность)\n",
    "print(classification_report(t['y_true'],t['y_pred']))"
   ]
  },
  {
   "cell_type": "code",
   "execution_count": 88,
   "id": "4605b7ac",
   "metadata": {},
   "outputs": [
    {
     "data": {
      "text/plain": [
       "0.940234281616065"
      ]
     },
     "execution_count": 88,
     "metadata": {},
     "output_type": "execute_result"
    }
   ],
   "source": [
    "t[t['y_pred'] == 1]['y_true'].mean()"
   ]
  },
  {
   "cell_type": "markdown",
   "id": "2619ec27",
   "metadata": {},
   "source": [
    "# Изменим баланс классов"
   ]
  },
  {
   "cell_type": "code",
   "execution_count": 93,
   "id": "2fc0d0b3",
   "metadata": {},
   "outputs": [
    {
     "data": {
      "application/vnd.jupyter.widget-view+json": {
       "model_id": "e376015a303e47baaddb7ce9841b517d",
       "version_major": 2,
       "version_minor": 0
      },
      "text/plain": [
       "  0%|          | 0/10000 [00:00<?, ?it/s]"
      ]
     },
     "metadata": {},
     "output_type": "display_data"
    }
   ],
   "source": [
    "sample_size = 1090\n",
    "baseline = 0.2\n",
    "mde = 0.05\n",
    "result = []\n",
    "class_balance = 0.95\n",
    "for _ in tqdm(range(10000)):\n",
    "  if np.random.binomial(1,class_balance):\n",
    "    a = np.random.binomial(1,baseline,size=sample_size)\n",
    "    b = np.random.binomial(1,baseline,size=sample_size)\n",
    "    _, pval = proportions_ztest([a.sum(),b.sum()],[len(a),len(b)])\n",
    "    result.append((0,pval))\n",
    "  else:\n",
    "    a = np.random.binomial(1,baseline,size=sample_size)\n",
    "    b = np.random.binomial(1,baseline + mde,size=sample_size)\n",
    "    _, pval = proportions_ztest([a.sum(),b.sum()],[len(a),len(b)])\n",
    "    result.append((1,pval))"
   ]
  },
  {
   "cell_type": "code",
   "execution_count": 94,
   "id": "5ac55dc8",
   "metadata": {},
   "outputs": [],
   "source": [
    "t = pd.DataFrame(result,columns=['y_true','y_score'])"
   ]
  },
  {
   "cell_type": "code",
   "execution_count": 95,
   "id": "33842aa5",
   "metadata": {},
   "outputs": [
    {
     "data": {
      "text/plain": [
       "0.0511"
      ]
     },
     "execution_count": 95,
     "metadata": {},
     "output_type": "execute_result"
    }
   ],
   "source": [
    "t['y_pred'] = (t['y_score'] < 0.05)*1\n",
    "t['y_true'].mean()"
   ]
  },
  {
   "cell_type": "code",
   "execution_count": 96,
   "id": "031efa8e",
   "metadata": {},
   "outputs": [
    {
     "name": "stdout",
     "output_type": "stream",
     "text": [
      "              precision    recall  f1-score   support\n",
      "\n",
      "           0       0.99      0.95      0.97      9489\n",
      "           1       0.45      0.76      0.56       511\n",
      "\n",
      "    accuracy                           0.94     10000\n",
      "   macro avg       0.72      0.85      0.77     10000\n",
      "weighted avg       0.96      0.94      0.95     10000\n",
      "\n"
     ]
    }
   ],
   "source": [
    "print(classification_report(t['y_true'],t['y_pred']))"
   ]
  },
  {
   "cell_type": "code",
   "execution_count": null,
   "id": "89601d9e",
   "metadata": {},
   "outputs": [],
   "source": []
  }
 ],
 "metadata": {
  "kernelspec": {
   "display_name": "Python 3 (ipykernel)",
   "language": "python",
   "name": "python3"
  },
  "language_info": {
   "codemirror_mode": {
    "name": "ipython",
    "version": 3
   },
   "file_extension": ".py",
   "mimetype": "text/x-python",
   "name": "python",
   "nbconvert_exporter": "python",
   "pygments_lexer": "ipython3",
   "version": "3.9.7"
  },
  "varInspector": {
   "cols": {
    "lenName": 16,
    "lenType": 16,
    "lenVar": 40
   },
   "kernels_config": {
    "python": {
     "delete_cmd_postfix": "",
     "delete_cmd_prefix": "del ",
     "library": "var_list.py",
     "varRefreshCmd": "print(var_dic_list())"
    },
    "r": {
     "delete_cmd_postfix": ") ",
     "delete_cmd_prefix": "rm(",
     "library": "var_list.r",
     "varRefreshCmd": "cat(var_dic_list()) "
    }
   },
   "types_to_exclude": [
    "module",
    "function",
    "builtin_function_or_method",
    "instance",
    "_Feature"
   ],
   "window_display": false
  }
 },
 "nbformat": 4,
 "nbformat_minor": 5
}
